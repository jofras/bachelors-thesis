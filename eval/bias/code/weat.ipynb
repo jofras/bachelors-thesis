{
 "cells": [
  {
   "cell_type": "code",
   "execution_count": 5,
   "metadata": {},
   "outputs": [],
   "source": [
    "import gensim\n",
    "import os"
   ]
  },
  {
   "cell_type": "code",
   "execution_count": 9,
   "metadata": {},
   "outputs": [],
   "source": [
    "model_path = '../../../embedding_gen/embeddings/w2v_pfv_100_5_f_5/model'\n",
    "full_path = os.path.abspath(model_path)\n",
    "model = gensim.models.Word2Vec.load(full_path)"
   ]
  },
  {
   "cell_type": "code",
   "execution_count": 10,
   "metadata": {},
   "outputs": [],
   "source": [
    "from wefe.datasets import load_weat\n",
    "from wefe.metrics import RNSB, WEAT\n",
    "from wefe.query import Query\n",
    "from wefe.utils import run_queries\n",
    "from wefe.word_embedding_model import WordEmbeddingModel"
   ]
  },
  {
   "cell_type": "code",
   "execution_count": 20,
   "metadata": {},
   "outputs": [],
   "source": [
    "model = WordEmbeddingModel(model.wv, \"my_model\")"
   ]
  },
  {
   "cell_type": "code",
   "execution_count": 21,
   "metadata": {},
   "outputs": [],
   "source": [
    "# load the WEAT word sets\n",
    "word_sets = load_weat()"
   ]
  },
  {
   "cell_type": "code",
   "execution_count": 22,
   "metadata": {},
   "outputs": [],
   "source": [
    "# create gender queries\n",
    "gender_query_1 = Query(\n",
    "    [word_sets[\"male_terms\"], word_sets[\"female_terms\"]],\n",
    "    [word_sets[\"career\"], word_sets[\"family\"]],\n",
    "    [\"male terms\", \"female terms\"],\n",
    "    [\"career\", \"family\"],\n",
    ")\n",
    "\n",
    "gender_query_2 = Query(\n",
    "    [word_sets[\"male_terms\"], word_sets[\"female_terms\"]],\n",
    "    [word_sets[\"science\"], word_sets[\"arts\"]],\n",
    "    [\"male terms\", \"female terms\"],\n",
    "    [\"science\", \"arts\"],\n",
    ")\n",
    "\n",
    "gender_query_3 = Query(\n",
    "    [word_sets[\"male_terms\"], word_sets[\"female_terms\"]],\n",
    "    [word_sets[\"math\"], word_sets[\"arts_2\"]],\n",
    "    [\"male terms\", \"female terms\"],\n",
    "    [\"math\", \"arts\"],\n",
    ")\n",
    "\n",
    "gender_queries = [gender_query_1, gender_query_2, gender_query_3]"
   ]
  },
  {
   "cell_type": "code",
   "execution_count": 23,
   "metadata": {},
   "outputs": [
    {
     "data": {
      "text/html": [
       "<div>\n",
       "<style scoped>\n",
       "    .dataframe tbody tr th:only-of-type {\n",
       "        vertical-align: middle;\n",
       "    }\n",
       "\n",
       "    .dataframe tbody tr th {\n",
       "        vertical-align: top;\n",
       "    }\n",
       "\n",
       "    .dataframe thead th {\n",
       "        text-align: right;\n",
       "    }\n",
       "</style>\n",
       "<table border=\"1\" class=\"dataframe\">\n",
       "  <thead>\n",
       "    <tr style=\"text-align: right;\">\n",
       "      <th>query_name</th>\n",
       "      <th>male terms and female terms wrt career and family</th>\n",
       "      <th>male terms and female terms wrt science and arts</th>\n",
       "      <th>male terms and female terms wrt math and arts</th>\n",
       "    </tr>\n",
       "    <tr>\n",
       "      <th>model_name</th>\n",
       "      <th></th>\n",
       "      <th></th>\n",
       "      <th></th>\n",
       "    </tr>\n",
       "  </thead>\n",
       "  <tbody>\n",
       "    <tr>\n",
       "      <th>my_model</th>\n",
       "      <td>0.6406</td>\n",
       "      <td>0.686291</td>\n",
       "      <td>0.806873</td>\n",
       "    </tr>\n",
       "  </tbody>\n",
       "</table>\n",
       "</div>"
      ],
      "text/plain": [
       "query_name  male terms and female terms wrt career and family  \\\n",
       "model_name                                                      \n",
       "my_model                                               0.6406   \n",
       "\n",
       "query_name  male terms and female terms wrt science and arts  \\\n",
       "model_name                                                     \n",
       "my_model                                            0.686291   \n",
       "\n",
       "query_name  male terms and female terms wrt math and arts  \n",
       "model_name                                                 \n",
       "my_model                                         0.806873  "
      ]
     },
     "execution_count": 23,
     "metadata": {},
     "output_type": "execute_result"
    }
   ],
   "source": [
    "WEAT_gender_results = run_queries(\n",
    "    WEAT, \n",
    "    gender_queries, \n",
    "    [model], \n",
    "    metric_params={\"preprocessors\": [{\"lowercase\": True}]}, \n",
    "    queries_set_name=\"gender queries\"\n",
    ")\n",
    "WEAT_gender_results"
   ]
  },
  {
   "cell_type": "code",
   "execution_count": null,
   "metadata": {},
   "outputs": [],
   "source": []
  }
 ],
 "metadata": {
  "kernelspec": {
   "display_name": "Python 3",
   "language": "python",
   "name": "python3"
  },
  "language_info": {
   "codemirror_mode": {
    "name": "ipython",
    "version": 3
   },
   "file_extension": ".py",
   "mimetype": "text/x-python",
   "name": "python",
   "nbconvert_exporter": "python",
   "pygments_lexer": "ipython3",
   "version": "3.11.2"
  }
 },
 "nbformat": 4,
 "nbformat_minor": 2
}
