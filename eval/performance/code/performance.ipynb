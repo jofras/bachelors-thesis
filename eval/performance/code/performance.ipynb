{
 "cells": [
  {
   "cell_type": "markdown",
   "metadata": {},
   "source": [
    "# performance evaluation\n",
    "\n",
    "this notebook is all about performance evaluation, i.e. how well do these models do on practical tasks like word analogies and similarities."
   ]
  },
  {
   "cell_type": "code",
   "execution_count": 1,
   "metadata": {},
   "outputs": [],
   "source": [
    "from gensim.models import Word2Vec\n",
    "import os\n",
    "import urllib.request\n",
    "import zipfile"
   ]
  },
  {
   "cell_type": "markdown",
   "metadata": {},
   "source": [
    "first, load whatever models you want to evaluate."
   ]
  },
  {
   "cell_type": "code",
   "execution_count": null,
   "metadata": {},
   "outputs": [
    {
     "ename": "AttributeError",
     "evalue": "The vocab attribute was removed from KeyedVector in Gensim 4.0.0.\nUse KeyedVector's .key_to_index dict, .index_to_key list, and methods .get_vecattr(key, attr) and .set_vecattr(key, attr, new_val) instead.\nSee https://github.com/RaRe-Technologies/gensim/wiki/Migrating-from-Gensim-3.x-to-4",
     "output_type": "error",
     "traceback": [
      "\u001b[0;31m---------------------------------------------------------------------------\u001b[0m",
      "\u001b[0;31mAttributeError\u001b[0m                            Traceback (most recent call last)",
      "Cell \u001b[0;32mIn[31], line 3\u001b[0m\n\u001b[1;32m      1\u001b[0m vanilla_model \u001b[38;5;241m=\u001b[39m Word2Vec\u001b[38;5;241m.\u001b[39mload(\u001b[38;5;124m\"\u001b[39m\u001b[38;5;124mword2vec_full_vanilla\u001b[39m\u001b[38;5;124m\"\u001b[39m)\n\u001b[1;32m      2\u001b[0m wordvecs \u001b[38;5;241m=\u001b[39m vanilla_model\u001b[38;5;241m.\u001b[39mwv\n\u001b[0;32m----> 3\u001b[0m \u001b[38;5;28mprint\u001b[39m(\u001b[38;5;28mlen\u001b[39m(\u001b[43mwordvecs\u001b[49m\u001b[38;5;241;43m.\u001b[39;49m\u001b[43mvocab\u001b[49m))\n",
      "File \u001b[0;32m/Library/Frameworks/Python.framework/Versions/3.11/lib/python3.11/site-packages/gensim/models/keyedvectors.py:734\u001b[0m, in \u001b[0;36mKeyedVectors.vocab\u001b[0;34m(self)\u001b[0m\n\u001b[1;32m    732\u001b[0m \u001b[38;5;129m@property\u001b[39m\n\u001b[1;32m    733\u001b[0m \u001b[38;5;28;01mdef\u001b[39;00m \u001b[38;5;21mvocab\u001b[39m(\u001b[38;5;28mself\u001b[39m):\n\u001b[0;32m--> 734\u001b[0m     \u001b[38;5;28;01mraise\u001b[39;00m \u001b[38;5;167;01mAttributeError\u001b[39;00m(\n\u001b[1;32m    735\u001b[0m         \u001b[38;5;124m\"\u001b[39m\u001b[38;5;124mThe vocab attribute was removed from KeyedVector in Gensim 4.0.0.\u001b[39m\u001b[38;5;130;01m\\n\u001b[39;00m\u001b[38;5;124m\"\u001b[39m\n\u001b[1;32m    736\u001b[0m         \u001b[38;5;124m\"\u001b[39m\u001b[38;5;124mUse KeyedVector\u001b[39m\u001b[38;5;124m'\u001b[39m\u001b[38;5;124ms .key_to_index dict, .index_to_key list, and methods \u001b[39m\u001b[38;5;124m\"\u001b[39m\n\u001b[1;32m    737\u001b[0m         \u001b[38;5;124m\"\u001b[39m\u001b[38;5;124m.get_vecattr(key, attr) and .set_vecattr(key, attr, new_val) instead.\u001b[39m\u001b[38;5;130;01m\\n\u001b[39;00m\u001b[38;5;124m\"\u001b[39m\n\u001b[1;32m    738\u001b[0m         \u001b[38;5;124m\"\u001b[39m\u001b[38;5;124mSee https://github.com/RaRe-Technologies/gensim/wiki/Migrating-from-Gensim-3.x-to-4\u001b[39m\u001b[38;5;124m\"\u001b[39m\n\u001b[1;32m    739\u001b[0m     )\n",
      "\u001b[0;31mAttributeError\u001b[0m: The vocab attribute was removed from KeyedVector in Gensim 4.0.0.\nUse KeyedVector's .key_to_index dict, .index_to_key list, and methods .get_vecattr(key, attr) and .set_vecattr(key, attr, new_val) instead.\nSee https://github.com/RaRe-Technologies/gensim/wiki/Migrating-from-Gensim-3.x-to-4"
     ]
    }
   ],
   "source": [
    "model = Word2Vec.load(\"word2vec_full_vanilla\")\n",
    "wordvecs = vanilla_model.wv"
   ]
  },
  {
   "cell_type": "markdown",
   "metadata": {},
   "source": [
    "## word similarity and analogy\n",
    "\n",
    "to evaluate how well the model captures semantic and syntactic relationships."
   ]
  },
  {
   "cell_type": "markdown",
   "metadata": {},
   "source": [
    "### google analogies"
   ]
  },
  {
   "cell_type": "code",
   "execution_count": 24,
   "metadata": {},
   "outputs": [
    {
     "name": "stdout",
     "output_type": "stream",
     "text": [
      "0.44464203763194127\n"
     ]
    }
   ],
   "source": [
    "analogy_url = \"https://raw.githubusercontent.com/piskvorky/gensim/refs/heads/develop/gensim/test/test_data/questions-words.txt\"\n",
    "analogy_path = os.path.join(\"eval\", \"questions-words.txt\")\n",
    "\n",
    "if not os.path.exists(analogy_path):\n",
    "    urllib.request.urlretrieve(analogy_url, analogy_path)\n",
    "\n",
    "analogy_res = wordvecs.evaluate_word_analogies(analogy_path)\n",
    "print(analogy_res[0])"
   ]
  },
  {
   "cell_type": "markdown",
   "metadata": {},
   "source": [
    "### wordsim-353"
   ]
  },
  {
   "cell_type": "code",
   "execution_count": 21,
   "metadata": {},
   "outputs": [
    {
     "name": "stdout",
     "output_type": "stream",
     "text": [
      "(PearsonRResult(statistic=0.6460058078485802, pvalue=4.4623722878998506e-43), SignificanceResult(statistic=0.6682090256703265, pvalue=5.238914856995817e-47), 0.0)\n"
     ]
    }
   ],
   "source": [
    "ws_url = \"https://raw.githubusercontent.com/piskvorky/gensim/refs/heads/develop/gensim/test/test_data/wordsim353.tsv\"\n",
    "ws_path = os.path.join(\"eval\", \"wordsim353.txt\")\n",
    "\n",
    "if not os.path.exists(ws_path):\n",
    "    urllib.request.urlretrieve(ws_url, ws_path)\n",
    "\n",
    "ws_res = wordvecs.evaluate_word_pairs(ws_path)\n",
    "print(ws_res)"
   ]
  },
  {
   "cell_type": "markdown",
   "metadata": {},
   "source": [
    "### simlex-999"
   ]
  },
  {
   "cell_type": "code",
   "execution_count": 22,
   "metadata": {},
   "outputs": [
    {
     "name": "stdout",
     "output_type": "stream",
     "text": [
      "(PearsonRResult(statistic=0.3768184128980168, pvalue=4.6683703044622626e-35), SignificanceResult(statistic=0.35686805603251986, pvalue=2.262765902862798e-31), 0.0)\n"
     ]
    }
   ],
   "source": [
    "simlex_url = \"https://raw.githubusercontent.com/piskvorky/gensim/refs/heads/develop/gensim/test/test_data/simlex999.txt\"\n",
    "simlex_path = os.path.join(\"eval\", \"simlex999.txt\")\n",
    "\n",
    "if not os.path.exists(simlex_path):\n",
    "    urllib.request.urlretrieve(simlex_url, simlex_path)\n",
    "\n",
    "simlex_res = wordvecs.evaluate_word_pairs(simlex_path)\n",
    "print(simlex_res)"
   ]
  },
  {
   "cell_type": "markdown",
   "metadata": {},
   "source": [
    "### MEN dataset\n",
    "\n",
    "here some preprocessing is needed to get the scores into the right range."
   ]
  },
  {
   "cell_type": "code",
   "execution_count": 29,
   "metadata": {},
   "outputs": [
    {
     "name": "stdout",
     "output_type": "stream",
     "text": [
      "normalized scores saved to eval/men_normalized.txt\n"
     ]
    }
   ],
   "source": [
    "input_file = \"eval/men.txt\"  \n",
    "output_file = \"eval/men_normalized.txt\"\n",
    "\n",
    "with open(input_file, \"r\") as infile, open(output_file, \"w\") as outfile:\n",
    "    for line in infile:\n",
    "        parts = line.rsplit(\" \", 1) \n",
    "        if len(parts) == 2:\n",
    "            word_pair, score = parts[0], float(parts[1])\n",
    "            normalized_score = (score * 10) / 50  # normalize to [0,10]\n",
    "            words = word_pair.split()\n",
    "            outfile.write(f\"{words[0]}\\t{words[1]}\\t{normalized_score:.2f}\\n\")  \n",
    "\n",
    "print(f\"normalized scores saved to {output_file}\")"
   ]
  },
  {
   "cell_type": "code",
   "execution_count": 30,
   "metadata": {},
   "outputs": [
    {
     "name": "stdout",
     "output_type": "stream",
     "text": [
      "(PearsonRResult(statistic=0.7007690670824924, pvalue=0.0), SignificanceResult(statistic=0.7073827886513595, pvalue=0.0), 0.0)\n"
     ]
    }
   ],
   "source": [
    "men_path = \"eval/men_normalized.txt\"\n",
    "men_res = wordvecs.evaluate_word_pairs(men_path)\n",
    "print(men_res)"
   ]
  },
  {
   "cell_type": "code",
   "execution_count": null,
   "metadata": {},
   "outputs": [],
   "source": []
  }
 ],
 "metadata": {
  "kernelspec": {
   "display_name": "Python 3",
   "language": "python",
   "name": "python3"
  },
  "language_info": {
   "codemirror_mode": {
    "name": "ipython",
    "version": 3
   },
   "file_extension": ".py",
   "mimetype": "text/x-python",
   "name": "python",
   "nbconvert_exporter": "python",
   "pygments_lexer": "ipython3",
   "version": "3.11.2"
  }
 },
 "nbformat": 4,
 "nbformat_minor": 2
}
