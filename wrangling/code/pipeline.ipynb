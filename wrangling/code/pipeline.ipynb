{
 "cells": [
  {
   "cell_type": "markdown",
   "metadata": {},
   "source": [
    "# Final Data Wrangling Pipeline\n",
    "\n",
    "Assumes that the entries have already been merged and simplified to text only, i.e. are currently before the ```TextCleaner``` step of the diagram. See ```wrangling_pipeline.png``` for reference."
   ]
  },
  {
   "cell_type": "code",
   "execution_count": null,
   "metadata": {},
   "outputs": [],
   "source": [
    "from filefinder import FileFinder\n",
    "from fileproc import FileProcessor\n",
    "from filefunc import EntrySimplifier, TextCleaner, StopTokenAppender, SentenceListCreator, GloVeFormatter"
   ]
  },
  {
   "cell_type": "markdown",
   "metadata": {},
   "source": [
    "## Cleaning the text\n",
    "\n",
    "Use ```TextCleaner``` to remove brackets and expand contractions using Python's ```contractions``` library."
   ]
  },
  {
   "cell_type": "code",
   "execution_count": null,
   "metadata": {},
   "outputs": [],
   "source": []
  },
  {
   "cell_type": "markdown",
   "metadata": {},
   "source": [
    "## Appending stop tokens\n",
    "\n",
    "Use ```StopTokenAppender``` to append the stop token \"eopc\" (*\"end of podcast\"*) to the end of each line of text."
   ]
  },
  {
   "cell_type": "code",
   "execution_count": null,
   "metadata": {},
   "outputs": [],
   "source": []
  },
  {
   "cell_type": "markdown",
   "metadata": {},
   "source": [
    "## Creating the sentence list\n",
    "\n",
    "Use ```SentenceListCreator``` to tokenize the text and generate the list of sentences in word2vec format."
   ]
  },
  {
   "cell_type": "code",
   "execution_count": null,
   "metadata": {},
   "outputs": [],
   "source": []
  },
  {
   "cell_type": "markdown",
   "metadata": {},
   "source": [
    "## Word2Vec Embeddings\n",
    "\n",
    "Proceed to generate the word2vec embeddings using ```create_ijson_gen```."
   ]
  },
  {
   "cell_type": "code",
   "execution_count": null,
   "metadata": {},
   "outputs": [],
   "source": []
  },
  {
   "cell_type": "markdown",
   "metadata": {},
   "source": [
    "Next, pass this generator to a ```gensim``` word2vec model, and start training it."
   ]
  },
  {
   "cell_type": "markdown",
   "metadata": {},
   "source": [
    "## GloVe Embeddings\n",
    "\n",
    "Reformat the sentence list using ```GloVeFormatter```."
   ]
  },
  {
   "cell_type": "code",
   "execution_count": null,
   "metadata": {},
   "outputs": [],
   "source": []
  },
  {
   "cell_type": "markdown",
   "metadata": {},
   "source": [
    "Next, find a way to stream all files to the gloVe model to train on the whole corpus."
   ]
  }
 ],
 "metadata": {
  "kernelspec": {
   "display_name": "Python 3",
   "language": "python",
   "name": "python3"
  },
  "language_info": {
   "codemirror_mode": {
    "name": "ipython",
    "version": 3
   },
   "file_extension": ".py",
   "mimetype": "text/x-python",
   "name": "python",
   "nbconvert_exporter": "python",
   "pygments_lexer": "ipython3",
   "version": "3.11.2"
  }
 },
 "nbformat": 4,
 "nbformat_minor": 2
}
